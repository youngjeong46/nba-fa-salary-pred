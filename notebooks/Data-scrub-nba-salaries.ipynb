{
 "cells": [
  {
   "cell_type": "code",
   "execution_count": 1,
   "metadata": {},
   "outputs": [],
   "source": [
    "import re\n",
    "import os\n",
    "import pickle\n",
    "import pandas as pd"
   ]
  },
  {
   "cell_type": "code",
   "execution_count": 2,
   "metadata": {},
   "outputs": [],
   "source": [
    "fas=pickle.load(open(\"../data/raw/salaries.pickle\", \"rb\"))"
   ]
  },
  {
   "cell_type": "markdown",
   "metadata": {},
   "source": [
    "Quickly look at one of the dataframes:"
   ]
  },
  {
   "cell_type": "code",
   "execution_count": 14,
   "metadata": {},
   "outputs": [
    {
     "data": {
      "text/html": [
       "<div>\n",
       "<style scoped>\n",
       "    .dataframe tbody tr th:only-of-type {\n",
       "        vertical-align: middle;\n",
       "    }\n",
       "\n",
       "    .dataframe tbody tr th {\n",
       "        vertical-align: top;\n",
       "    }\n",
       "\n",
       "    .dataframe thead th {\n",
       "        text-align: right;\n",
       "    }\n",
       "</style>\n",
       "<table border=\"1\" class=\"dataframe\">\n",
       "  <thead>\n",
       "    <tr style=\"text-align: right;\">\n",
       "      <th></th>\n",
       "      <th>Rk</th>\n",
       "      <th>Player</th>\n",
       "      <th>Tm</th>\n",
       "      <th>Salary</th>\n",
       "    </tr>\n",
       "  </thead>\n",
       "  <tbody>\n",
       "    <tr>\n",
       "      <th>0</th>\n",
       "      <td>RK</td>\n",
       "      <td>NAME</td>\n",
       "      <td>TEAM</td>\n",
       "      <td>SALARY</td>\n",
       "    </tr>\n",
       "    <tr>\n",
       "      <th>1</th>\n",
       "      <td>1</td>\n",
       "      <td>Stephen Curry, PG</td>\n",
       "      <td>Golden State Warriors</td>\n",
       "      <td>$37,457,154</td>\n",
       "    </tr>\n",
       "    <tr>\n",
       "      <th>2</th>\n",
       "      <td>2</td>\n",
       "      <td>Russell Westbrook, PG</td>\n",
       "      <td>Oklahoma City Thunder</td>\n",
       "      <td>$35,654,150</td>\n",
       "    </tr>\n",
       "    <tr>\n",
       "      <th>3</th>\n",
       "      <td>3</td>\n",
       "      <td>Chris Paul, PG</td>\n",
       "      <td>Houston Rockets</td>\n",
       "      <td>$35,654,150</td>\n",
       "    </tr>\n",
       "    <tr>\n",
       "      <th>4</th>\n",
       "      <td>4</td>\n",
       "      <td>Blake Griffin, PF</td>\n",
       "      <td>Detroit Pistons</td>\n",
       "      <td>$32,088,932</td>\n",
       "    </tr>\n",
       "    <tr>\n",
       "      <th>477</th>\n",
       "      <td>434</td>\n",
       "      <td>Jonathan Gibson, PG</td>\n",
       "      <td>Boston Celtics</td>\n",
       "      <td>$17,092</td>\n",
       "    </tr>\n",
       "    <tr>\n",
       "      <th>478</th>\n",
       "      <td>435</td>\n",
       "      <td>Tarik Phillip, G</td>\n",
       "      <td>Washington Wizards</td>\n",
       "      <td>$9,474</td>\n",
       "    </tr>\n",
       "    <tr>\n",
       "      <th>479</th>\n",
       "      <td>436</td>\n",
       "      <td>Duncan Robinson, SF</td>\n",
       "      <td>Miami Heat</td>\n",
       "      <td>$9,474</td>\n",
       "    </tr>\n",
       "    <tr>\n",
       "      <th>480</th>\n",
       "      <td>437</td>\n",
       "      <td>Theo Pinson, SG</td>\n",
       "      <td>Brooklyn Nets</td>\n",
       "      <td>$4,737</td>\n",
       "    </tr>\n",
       "    <tr>\n",
       "      <th>481</th>\n",
       "      <td>438</td>\n",
       "      <td>Kendrick Nunn, SG</td>\n",
       "      <td>Miami Heat</td>\n",
       "      <td>$4,737</td>\n",
       "    </tr>\n",
       "  </tbody>\n",
       "</table>\n",
       "</div>"
      ],
      "text/plain": [
       "      Rk                 Player                     Tm       Salary\n",
       "0     RK                   NAME                   TEAM       SALARY\n",
       "1      1      Stephen Curry, PG  Golden State Warriors  $37,457,154\n",
       "2      2  Russell Westbrook, PG  Oklahoma City Thunder  $35,654,150\n",
       "3      3         Chris Paul, PG        Houston Rockets  $35,654,150\n",
       "4      4      Blake Griffin, PF        Detroit Pistons  $32,088,932\n",
       "477  434    Jonathan Gibson, PG         Boston Celtics      $17,092\n",
       "478  435       Tarik Phillip, G     Washington Wizards       $9,474\n",
       "479  436    Duncan Robinson, SF             Miami Heat       $9,474\n",
       "480  437        Theo Pinson, SG          Brooklyn Nets       $4,737\n",
       "481  438      Kendrick Nunn, SG             Miami Heat       $4,737"
      ]
     },
     "execution_count": 14,
     "metadata": {},
     "output_type": "execute_result"
    }
   ],
   "source": [
    "fas[2018].apply(lambda x: x.head(5).append(x.tail(5))) #look at first and last five"
   ]
  },
  {
   "cell_type": "code",
   "execution_count": 13,
   "metadata": {},
   "outputs": [
    {
     "data": {
      "text/plain": [
       "dict_keys([2018, 2017, 2016, 2015, 2014, 2013, 2012, 2011, 2010, 2009])"
      ]
     },
     "execution_count": 13,
     "metadata": {},
     "output_type": "execute_result"
    }
   ],
   "source": [
    "fas.keys()"
   ]
  },
  {
   "cell_type": "code",
   "execution_count": 4,
   "metadata": {
    "scrolled": true
   },
   "outputs": [
    {
     "data": {
      "text/plain": [
       "Int64Index([0, 1, 2, 3], dtype='int64')"
      ]
     },
     "execution_count": 4,
     "metadata": {},
     "output_type": "execute_result"
    }
   ],
   "source": [
    "fas[2017].columns"
   ]
  },
  {
   "cell_type": "markdown",
   "metadata": {},
   "source": [
    "Certain things we need to fix: \n",
    "\n",
    "1. Fix some headers (0 -> Rank, 1-> Name, 2-> Team, 3-> Salary)\n",
    "2. Remove rows with those header labels, as they were repeated in the website tables\n",
    "3. Add year column for when the lists are aggregated into a single dataframe\n",
    "\n",
    "This we can do after aggregations:\n",
    "\n",
    "1. Change Salary format (remove $ and commas)\n",
    "2. Split position from the name into a new column\n",
    "3. Change Salary datatype to int\n",
    "4. Remove Rk column; it's not significant"
   ]
  },
  {
   "cell_type": "code",
   "execution_count": 11,
   "metadata": {},
   "outputs": [
    {
     "name": "stderr",
     "output_type": "stream",
     "text": [
      "/Users/youngjeong/anaconda3/envs/metis/lib/python3.7/site-packages/ipykernel_launcher.py:7: SettingWithCopyWarning: \n",
      "A value is trying to be set on a copy of a slice from a DataFrame.\n",
      "Try using .loc[row_indexer,col_indexer] = value instead\n",
      "\n",
      "See the caveats in the documentation: http://pandas.pydata.org/pandas-docs/stable/indexing.html#indexing-view-versus-copy\n",
      "  import sys\n"
     ]
    }
   ],
   "source": [
    "import re\n",
    "combined ={}\n",
    "\n",
    "for k,v in fas.items():\n",
    "    v.columns = ['Rk','Player','Tm','Salary']\n",
    "    v = v[v.Rk!= \"RK\"]\n",
    "    v[\"Year\"] = k\n",
    "    combined[k]=v"
   ]
  },
  {
   "cell_type": "code",
   "execution_count": 12,
   "metadata": {},
   "outputs": [
    {
     "data": {
      "text/html": [
       "<div>\n",
       "<style scoped>\n",
       "    .dataframe tbody tr th:only-of-type {\n",
       "        vertical-align: middle;\n",
       "    }\n",
       "\n",
       "    .dataframe tbody tr th {\n",
       "        vertical-align: top;\n",
       "    }\n",
       "\n",
       "    .dataframe thead th {\n",
       "        text-align: right;\n",
       "    }\n",
       "</style>\n",
       "<table border=\"1\" class=\"dataframe\">\n",
       "  <thead>\n",
       "    <tr style=\"text-align: right;\">\n",
       "      <th></th>\n",
       "      <th>Rk</th>\n",
       "      <th>Player</th>\n",
       "      <th>Tm</th>\n",
       "      <th>Salary</th>\n",
       "      <th>Year</th>\n",
       "    </tr>\n",
       "  </thead>\n",
       "  <tbody>\n",
       "    <tr>\n",
       "      <th>1</th>\n",
       "      <td>1</td>\n",
       "      <td>Stephen Curry, PG</td>\n",
       "      <td>Golden State Warriors</td>\n",
       "      <td>$37,457,154</td>\n",
       "      <td>2017</td>\n",
       "    </tr>\n",
       "    <tr>\n",
       "      <th>2</th>\n",
       "      <td>2</td>\n",
       "      <td>Blake Griffin, PF</td>\n",
       "      <td>LA Clippers</td>\n",
       "      <td>$32,088,932</td>\n",
       "      <td>2017</td>\n",
       "    </tr>\n",
       "    <tr>\n",
       "      <th>3</th>\n",
       "      <td>3</td>\n",
       "      <td>Paul Millsap, PF</td>\n",
       "      <td>Denver Nuggets</td>\n",
       "      <td>$31,269,231</td>\n",
       "      <td>2017</td>\n",
       "    </tr>\n",
       "    <tr>\n",
       "      <th>4</th>\n",
       "      <td>4</td>\n",
       "      <td>Kyle Lowry, PG</td>\n",
       "      <td>Toronto Raptors</td>\n",
       "      <td>$31,200,000</td>\n",
       "      <td>2017</td>\n",
       "    </tr>\n",
       "    <tr>\n",
       "      <th>5</th>\n",
       "      <td>5</td>\n",
       "      <td>Gordon Hayward, SF</td>\n",
       "      <td>Boston Celtics</td>\n",
       "      <td>$29,727,900</td>\n",
       "      <td>2017</td>\n",
       "    </tr>\n",
       "    <tr>\n",
       "      <th>6</th>\n",
       "      <td>6</td>\n",
       "      <td>Mike Conley, PG</td>\n",
       "      <td>Memphis Grizzlies</td>\n",
       "      <td>$28,530,608</td>\n",
       "      <td>2017</td>\n",
       "    </tr>\n",
       "    <tr>\n",
       "      <th>7</th>\n",
       "      <td>7</td>\n",
       "      <td>Russell Westbrook, PG</td>\n",
       "      <td>Oklahoma City Thunder</td>\n",
       "      <td>$28,530,608</td>\n",
       "      <td>2017</td>\n",
       "    </tr>\n",
       "    <tr>\n",
       "      <th>8</th>\n",
       "      <td>8</td>\n",
       "      <td>James Harden, PG</td>\n",
       "      <td>Houston Rockets</td>\n",
       "      <td>$28,299,399</td>\n",
       "      <td>2017</td>\n",
       "    </tr>\n",
       "    <tr>\n",
       "      <th>9</th>\n",
       "      <td>9</td>\n",
       "      <td>DeMar DeRozan, SG</td>\n",
       "      <td>Toronto Raptors</td>\n",
       "      <td>$27,739,975</td>\n",
       "      <td>2017</td>\n",
       "    </tr>\n",
       "    <tr>\n",
       "      <th>10</th>\n",
       "      <td>10</td>\n",
       "      <td>Al Horford, C</td>\n",
       "      <td>Boston Celtics</td>\n",
       "      <td>$27,734,406</td>\n",
       "      <td>2017</td>\n",
       "    </tr>\n",
       "  </tbody>\n",
       "</table>\n",
       "</div>"
      ],
      "text/plain": [
       "    Rk                 Player                     Tm       Salary  Year\n",
       "1    1      Stephen Curry, PG  Golden State Warriors  $37,457,154  2017\n",
       "2    2      Blake Griffin, PF            LA Clippers  $32,088,932  2017\n",
       "3    3       Paul Millsap, PF         Denver Nuggets  $31,269,231  2017\n",
       "4    4         Kyle Lowry, PG        Toronto Raptors  $31,200,000  2017\n",
       "5    5     Gordon Hayward, SF         Boston Celtics  $29,727,900  2017\n",
       "6    6        Mike Conley, PG      Memphis Grizzlies  $28,530,608  2017\n",
       "7    7  Russell Westbrook, PG  Oklahoma City Thunder  $28,530,608  2017\n",
       "8    8       James Harden, PG        Houston Rockets  $28,299,399  2017\n",
       "9    9      DeMar DeRozan, SG        Toronto Raptors  $27,739,975  2017\n",
       "10  10          Al Horford, C         Boston Celtics  $27,734,406  2017"
      ]
     },
     "execution_count": 12,
     "metadata": {},
     "output_type": "execute_result"
    }
   ],
   "source": [
    "combined[2017].head(10)"
   ]
  },
  {
   "cell_type": "markdown",
   "metadata": {},
   "source": [
    "Now we can combine all the dataframes into a single one and get the FA information from 2011-2018 (2018 Salary information will be our test_y)"
   ]
  },
  {
   "cell_type": "code",
   "execution_count": 26,
   "metadata": {},
   "outputs": [],
   "source": [
    "from functools import reduce\n",
    "salaries = reduce(lambda x,y:pd.concat([x,y]),[v for k,v in combined.items()])"
   ]
  },
  {
   "cell_type": "code",
   "execution_count": 27,
   "metadata": {},
   "outputs": [
    {
     "data": {
      "text/plain": [
       "(4511, 5)"
      ]
     },
     "execution_count": 27,
     "metadata": {},
     "output_type": "execute_result"
    }
   ],
   "source": [
    "salaries.shape"
   ]
  },
  {
   "cell_type": "code",
   "execution_count": 28,
   "metadata": {},
   "outputs": [
    {
     "name": "stdout",
     "output_type": "stream",
     "text": [
      "<class 'pandas.core.frame.DataFrame'>\n",
      "Int64Index: 4511 entries, 1 to 463\n",
      "Data columns (total 5 columns):\n",
      "Rk        4511 non-null object\n",
      "Player    4511 non-null object\n",
      "Tm        4511 non-null object\n",
      "Salary    4511 non-null object\n",
      "Year      4511 non-null int64\n",
      "dtypes: int64(1), object(4)\n",
      "memory usage: 211.5+ KB\n"
     ]
    }
   ],
   "source": [
    "salaries.info()"
   ]
  },
  {
   "cell_type": "code",
   "execution_count": 29,
   "metadata": {},
   "outputs": [
    {
     "data": {
      "text/html": [
       "<div>\n",
       "<style scoped>\n",
       "    .dataframe tbody tr th:only-of-type {\n",
       "        vertical-align: middle;\n",
       "    }\n",
       "\n",
       "    .dataframe tbody tr th {\n",
       "        vertical-align: top;\n",
       "    }\n",
       "\n",
       "    .dataframe thead th {\n",
       "        text-align: right;\n",
       "    }\n",
       "</style>\n",
       "<table border=\"1\" class=\"dataframe\">\n",
       "  <thead>\n",
       "    <tr style=\"text-align: right;\">\n",
       "      <th></th>\n",
       "      <th>Rk</th>\n",
       "      <th>Player</th>\n",
       "      <th>Tm</th>\n",
       "      <th>Salary</th>\n",
       "      <th>Year</th>\n",
       "    </tr>\n",
       "  </thead>\n",
       "  <tbody>\n",
       "    <tr>\n",
       "      <th>1</th>\n",
       "      <td>1</td>\n",
       "      <td>Stephen Curry, PG</td>\n",
       "      <td>Golden State Warriors</td>\n",
       "      <td>$37,457,154</td>\n",
       "      <td>2018</td>\n",
       "    </tr>\n",
       "    <tr>\n",
       "      <th>2</th>\n",
       "      <td>2</td>\n",
       "      <td>Russell Westbrook, PG</td>\n",
       "      <td>Oklahoma City Thunder</td>\n",
       "      <td>$35,654,150</td>\n",
       "      <td>2018</td>\n",
       "    </tr>\n",
       "    <tr>\n",
       "      <th>3</th>\n",
       "      <td>3</td>\n",
       "      <td>Chris Paul, PG</td>\n",
       "      <td>Houston Rockets</td>\n",
       "      <td>$35,654,150</td>\n",
       "      <td>2018</td>\n",
       "    </tr>\n",
       "    <tr>\n",
       "      <th>4</th>\n",
       "      <td>4</td>\n",
       "      <td>Blake Griffin, PF</td>\n",
       "      <td>Detroit Pistons</td>\n",
       "      <td>$32,088,932</td>\n",
       "      <td>2018</td>\n",
       "    </tr>\n",
       "    <tr>\n",
       "      <th>5</th>\n",
       "      <td>5</td>\n",
       "      <td>Gordon Hayward, SF</td>\n",
       "      <td>Boston Celtics</td>\n",
       "      <td>$31,214,295</td>\n",
       "      <td>2018</td>\n",
       "    </tr>\n",
       "  </tbody>\n",
       "</table>\n",
       "</div>"
      ],
      "text/plain": [
       "  Rk                 Player                     Tm       Salary  Year\n",
       "1  1      Stephen Curry, PG  Golden State Warriors  $37,457,154  2018\n",
       "2  2  Russell Westbrook, PG  Oklahoma City Thunder  $35,654,150  2018\n",
       "3  3         Chris Paul, PG        Houston Rockets  $35,654,150  2018\n",
       "4  4      Blake Griffin, PF        Detroit Pistons  $32,088,932  2018\n",
       "5  5     Gordon Hayward, SF         Boston Celtics  $31,214,295  2018"
      ]
     },
     "execution_count": 29,
     "metadata": {},
     "output_type": "execute_result"
    }
   ],
   "source": [
    "salaries.head(5)"
   ]
  },
  {
   "cell_type": "markdown",
   "metadata": {},
   "source": [
    "Now we can changed the Salary format to remove $ and commas, as well as splitting "
   ]
  },
  {
   "cell_type": "code",
   "execution_count": 30,
   "metadata": {},
   "outputs": [],
   "source": [
    "salaries[\"Salary\"] = salaries[\"Salary\"].str.replace('$','').str.replace(',','')"
   ]
  },
  {
   "cell_type": "code",
   "execution_count": 31,
   "metadata": {},
   "outputs": [
    {
     "data": {
      "text/html": [
       "<div>\n",
       "<style scoped>\n",
       "    .dataframe tbody tr th:only-of-type {\n",
       "        vertical-align: middle;\n",
       "    }\n",
       "\n",
       "    .dataframe tbody tr th {\n",
       "        vertical-align: top;\n",
       "    }\n",
       "\n",
       "    .dataframe thead th {\n",
       "        text-align: right;\n",
       "    }\n",
       "</style>\n",
       "<table border=\"1\" class=\"dataframe\">\n",
       "  <thead>\n",
       "    <tr style=\"text-align: right;\">\n",
       "      <th></th>\n",
       "      <th>Rk</th>\n",
       "      <th>Player</th>\n",
       "      <th>Tm</th>\n",
       "      <th>Salary</th>\n",
       "      <th>Year</th>\n",
       "    </tr>\n",
       "  </thead>\n",
       "  <tbody>\n",
       "    <tr>\n",
       "      <th>1</th>\n",
       "      <td>1</td>\n",
       "      <td>Stephen Curry, PG</td>\n",
       "      <td>Golden State Warriors</td>\n",
       "      <td>37457154</td>\n",
       "      <td>2018</td>\n",
       "    </tr>\n",
       "    <tr>\n",
       "      <th>2</th>\n",
       "      <td>2</td>\n",
       "      <td>Russell Westbrook, PG</td>\n",
       "      <td>Oklahoma City Thunder</td>\n",
       "      <td>35654150</td>\n",
       "      <td>2018</td>\n",
       "    </tr>\n",
       "    <tr>\n",
       "      <th>3</th>\n",
       "      <td>3</td>\n",
       "      <td>Chris Paul, PG</td>\n",
       "      <td>Houston Rockets</td>\n",
       "      <td>35654150</td>\n",
       "      <td>2018</td>\n",
       "    </tr>\n",
       "    <tr>\n",
       "      <th>4</th>\n",
       "      <td>4</td>\n",
       "      <td>Blake Griffin, PF</td>\n",
       "      <td>Detroit Pistons</td>\n",
       "      <td>32088932</td>\n",
       "      <td>2018</td>\n",
       "    </tr>\n",
       "    <tr>\n",
       "      <th>5</th>\n",
       "      <td>5</td>\n",
       "      <td>Gordon Hayward, SF</td>\n",
       "      <td>Boston Celtics</td>\n",
       "      <td>31214295</td>\n",
       "      <td>2018</td>\n",
       "    </tr>\n",
       "  </tbody>\n",
       "</table>\n",
       "</div>"
      ],
      "text/plain": [
       "  Rk                 Player                     Tm    Salary  Year\n",
       "1  1      Stephen Curry, PG  Golden State Warriors  37457154  2018\n",
       "2  2  Russell Westbrook, PG  Oklahoma City Thunder  35654150  2018\n",
       "3  3         Chris Paul, PG        Houston Rockets  35654150  2018\n",
       "4  4      Blake Griffin, PF        Detroit Pistons  32088932  2018\n",
       "5  5     Gordon Hayward, SF         Boston Celtics  31214295  2018"
      ]
     },
     "execution_count": 31,
     "metadata": {},
     "output_type": "execute_result"
    }
   ],
   "source": [
    "salaries.head(5)"
   ]
  },
  {
   "cell_type": "code",
   "execution_count": 32,
   "metadata": {},
   "outputs": [],
   "source": [
    "salaries.Salary = salaries.Salary.astype(int)\n",
    "del salaries['Rk']\n",
    "salaries['Player'], salaries['Pos'] = salaries['Player'].str.split(', ', 1).str"
   ]
  },
  {
   "cell_type": "code",
   "execution_count": 37,
   "metadata": {
    "scrolled": true
   },
   "outputs": [
    {
     "data": {
      "text/html": [
       "<div>\n",
       "<style scoped>\n",
       "    .dataframe tbody tr th:only-of-type {\n",
       "        vertical-align: middle;\n",
       "    }\n",
       "\n",
       "    .dataframe tbody tr th {\n",
       "        vertical-align: top;\n",
       "    }\n",
       "\n",
       "    .dataframe thead th {\n",
       "        text-align: right;\n",
       "    }\n",
       "</style>\n",
       "<table border=\"1\" class=\"dataframe\">\n",
       "  <thead>\n",
       "    <tr style=\"text-align: right;\">\n",
       "      <th></th>\n",
       "      <th>Player</th>\n",
       "      <th>Tm</th>\n",
       "      <th>Salary</th>\n",
       "      <th>Year</th>\n",
       "      <th>Pos</th>\n",
       "    </tr>\n",
       "  </thead>\n",
       "  <tbody>\n",
       "    <tr>\n",
       "      <th>1</th>\n",
       "      <td>Stephen Curry</td>\n",
       "      <td>Golden State Warriors</td>\n",
       "      <td>37457154</td>\n",
       "      <td>2018</td>\n",
       "      <td>PG</td>\n",
       "    </tr>\n",
       "    <tr>\n",
       "      <th>2</th>\n",
       "      <td>Russell Westbrook</td>\n",
       "      <td>Oklahoma City Thunder</td>\n",
       "      <td>35654150</td>\n",
       "      <td>2018</td>\n",
       "      <td>PG</td>\n",
       "    </tr>\n",
       "    <tr>\n",
       "      <th>3</th>\n",
       "      <td>Chris Paul</td>\n",
       "      <td>Houston Rockets</td>\n",
       "      <td>35654150</td>\n",
       "      <td>2018</td>\n",
       "      <td>PG</td>\n",
       "    </tr>\n",
       "    <tr>\n",
       "      <th>4</th>\n",
       "      <td>Blake Griffin</td>\n",
       "      <td>Detroit Pistons</td>\n",
       "      <td>32088932</td>\n",
       "      <td>2018</td>\n",
       "      <td>PF</td>\n",
       "    </tr>\n",
       "    <tr>\n",
       "      <th>5</th>\n",
       "      <td>Gordon Hayward</td>\n",
       "      <td>Boston Celtics</td>\n",
       "      <td>31214295</td>\n",
       "      <td>2018</td>\n",
       "      <td>SF</td>\n",
       "    </tr>\n",
       "  </tbody>\n",
       "</table>\n",
       "</div>"
      ],
      "text/plain": [
       "              Player                     Tm    Salary  Year Pos\n",
       "1      Stephen Curry  Golden State Warriors  37457154  2018  PG\n",
       "2  Russell Westbrook  Oklahoma City Thunder  35654150  2018  PG\n",
       "3         Chris Paul        Houston Rockets  35654150  2018  PG\n",
       "4      Blake Griffin        Detroit Pistons  32088932  2018  PF\n",
       "5     Gordon Hayward         Boston Celtics  31214295  2018  SF"
      ]
     },
     "execution_count": 37,
     "metadata": {},
     "output_type": "execute_result"
    }
   ],
   "source": [
    "salaries.head(5)"
   ]
  },
  {
   "cell_type": "code",
   "execution_count": null,
   "metadata": {},
   "outputs": [],
   "source": []
  }
 ],
 "metadata": {
  "kernelspec": {
   "display_name": "Python 3",
   "language": "python",
   "name": "python3"
  },
  "language_info": {
   "codemirror_mode": {
    "name": "ipython",
    "version": 3
   },
   "file_extension": ".py",
   "mimetype": "text/x-python",
   "name": "python",
   "nbconvert_exporter": "python",
   "pygments_lexer": "ipython3",
   "version": "3.7.3"
  },
  "toc": {
   "base_numbering": 1,
   "nav_menu": {},
   "number_sections": true,
   "sideBar": true,
   "skip_h1_title": false,
   "title_cell": "Table of Contents",
   "title_sidebar": "Contents",
   "toc_cell": false,
   "toc_position": {},
   "toc_section_display": true,
   "toc_window_display": false
  }
 },
 "nbformat": 4,
 "nbformat_minor": 2
}
