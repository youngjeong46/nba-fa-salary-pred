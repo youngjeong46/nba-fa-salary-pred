{
 "cells": [
  {
   "cell_type": "code",
   "execution_count": 2,
   "metadata": {},
   "outputs": [],
   "source": [
    "import itertools"
   ]
  },
  {
   "cell_type": "code",
   "execution_count": 3,
   "metadata": {},
   "outputs": [],
   "source": [
    "\n",
    "list1 = [1,2,3,4,5]\n",
    "list2 = [6,7,8]"
   ]
  },
  {
   "cell_type": "code",
   "execution_count": 14,
   "metadata": {},
   "outputs": [
    {
     "data": {
      "text/plain": [
       "[((1, 2, 3), [6, 7, 8]),\n",
       " ((1, 2, 4), [6, 7, 8]),\n",
       " ((1, 2, 5), [6, 7, 8]),\n",
       " ((1, 3, 2), [6, 7, 8]),\n",
       " ((1, 3, 4), [6, 7, 8]),\n",
       " ((1, 3, 5), [6, 7, 8]),\n",
       " ((1, 4, 2), [6, 7, 8]),\n",
       " ((1, 4, 3), [6, 7, 8]),\n",
       " ((1, 4, 5), [6, 7, 8]),\n",
       " ((1, 5, 2), [6, 7, 8]),\n",
       " ((1, 5, 3), [6, 7, 8]),\n",
       " ((1, 5, 4), [6, 7, 8]),\n",
       " ((2, 1, 3), [6, 7, 8]),\n",
       " ((2, 1, 4), [6, 7, 8]),\n",
       " ((2, 1, 5), [6, 7, 8]),\n",
       " ((2, 3, 1), [6, 7, 8]),\n",
       " ((2, 3, 4), [6, 7, 8]),\n",
       " ((2, 3, 5), [6, 7, 8]),\n",
       " ((2, 4, 1), [6, 7, 8]),\n",
       " ((2, 4, 3), [6, 7, 8]),\n",
       " ((2, 4, 5), [6, 7, 8]),\n",
       " ((2, 5, 1), [6, 7, 8]),\n",
       " ((2, 5, 3), [6, 7, 8]),\n",
       " ((2, 5, 4), [6, 7, 8]),\n",
       " ((3, 1, 2), [6, 7, 8]),\n",
       " ((3, 1, 4), [6, 7, 8]),\n",
       " ((3, 1, 5), [6, 7, 8]),\n",
       " ((3, 2, 1), [6, 7, 8]),\n",
       " ((3, 2, 4), [6, 7, 8]),\n",
       " ((3, 2, 5), [6, 7, 8]),\n",
       " ((3, 4, 1), [6, 7, 8]),\n",
       " ((3, 4, 2), [6, 7, 8]),\n",
       " ((3, 4, 5), [6, 7, 8]),\n",
       " ((3, 5, 1), [6, 7, 8]),\n",
       " ((3, 5, 2), [6, 7, 8]),\n",
       " ((3, 5, 4), [6, 7, 8]),\n",
       " ((4, 1, 2), [6, 7, 8]),\n",
       " ((4, 1, 3), [6, 7, 8]),\n",
       " ((4, 1, 5), [6, 7, 8]),\n",
       " ((4, 2, 1), [6, 7, 8]),\n",
       " ((4, 2, 3), [6, 7, 8]),\n",
       " ((4, 2, 5), [6, 7, 8]),\n",
       " ((4, 3, 1), [6, 7, 8]),\n",
       " ((4, 3, 2), [6, 7, 8]),\n",
       " ((4, 3, 5), [6, 7, 8]),\n",
       " ((4, 5, 1), [6, 7, 8]),\n",
       " ((4, 5, 2), [6, 7, 8]),\n",
       " ((4, 5, 3), [6, 7, 8]),\n",
       " ((5, 1, 2), [6, 7, 8]),\n",
       " ((5, 1, 3), [6, 7, 8]),\n",
       " ((5, 1, 4), [6, 7, 8]),\n",
       " ((5, 2, 1), [6, 7, 8]),\n",
       " ((5, 2, 3), [6, 7, 8]),\n",
       " ((5, 2, 4), [6, 7, 8]),\n",
       " ((5, 3, 1), [6, 7, 8]),\n",
       " ((5, 3, 2), [6, 7, 8]),\n",
       " ((5, 3, 4), [6, 7, 8]),\n",
       " ((5, 4, 1), [6, 7, 8]),\n",
       " ((5, 4, 2), [6, 7, 8]),\n",
       " ((5, 4, 3), [6, 7, 8])]"
      ]
     },
     "execution_count": 14,
     "metadata": {},
     "output_type": "execute_result"
    }
   ],
   "source": [
    "[(x,list2) for x in itertools.permutations(list1,len(list2))]\n"
   ]
  },
  {
   "cell_type": "code",
   "execution_count": 16,
   "metadata": {},
   "outputs": [],
   "source": [
    "df2 = pd.DataFrame([[\"ABC\",2017]], columns=['Player','Year'])"
   ]
  },
  {
   "cell_type": "code",
   "execution_count": 17,
   "metadata": {},
   "outputs": [
    {
     "data": {
      "text/html": [
       "<div>\n",
       "<style scoped>\n",
       "    .dataframe tbody tr th:only-of-type {\n",
       "        vertical-align: middle;\n",
       "    }\n",
       "\n",
       "    .dataframe tbody tr th {\n",
       "        vertical-align: top;\n",
       "    }\n",
       "\n",
       "    .dataframe thead th {\n",
       "        text-align: right;\n",
       "    }\n",
       "</style>\n",
       "<table border=\"1\" class=\"dataframe\">\n",
       "  <thead>\n",
       "    <tr style=\"text-align: right;\">\n",
       "      <th></th>\n",
       "      <th>Player</th>\n",
       "      <th>Year</th>\n",
       "    </tr>\n",
       "  </thead>\n",
       "  <tbody>\n",
       "    <tr>\n",
       "      <th>0</th>\n",
       "      <td>ABC</td>\n",
       "      <td>2017</td>\n",
       "    </tr>\n",
       "  </tbody>\n",
       "</table>\n",
       "</div>"
      ],
      "text/plain": [
       "  Player  Year\n",
       "0    ABC  2017"
      ]
     },
     "execution_count": 17,
     "metadata": {},
     "output_type": "execute_result"
    }
   ],
   "source": [
    "df2"
   ]
  },
  {
   "cell_type": "code",
   "execution_count": null,
   "metadata": {},
   "outputs": [],
   "source": [
    "df1[df1.Player = ]"
   ]
  }
 ],
 "metadata": {
  "kernelspec": {
   "display_name": "metis",
   "language": "python",
   "name": "metis"
  },
  "language_info": {
   "codemirror_mode": {
    "name": "ipython",
    "version": 3
   },
   "file_extension": ".py",
   "mimetype": "text/x-python",
   "name": "python",
   "nbconvert_exporter": "python",
   "pygments_lexer": "ipython3",
   "version": "3.7.3"
  },
  "toc": {
   "base_numbering": 1,
   "nav_menu": {},
   "number_sections": true,
   "sideBar": true,
   "skip_h1_title": false,
   "title_cell": "Table of Contents",
   "title_sidebar": "Contents",
   "toc_cell": false,
   "toc_position": {},
   "toc_section_display": true,
   "toc_window_display": false
  }
 },
 "nbformat": 4,
 "nbformat_minor": 2
}
