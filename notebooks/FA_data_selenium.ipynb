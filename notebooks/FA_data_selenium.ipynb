{
 "cells": [
  {
   "cell_type": "code",
   "execution_count": 1,
   "metadata": {},
   "outputs": [],
   "source": [
    "import pandas as pd\n",
    "import html5lib\n",
    "from selenium import webdriver\n",
    "import time\n",
    "from selenium.webdriver.common.action_chains import ActionChains\n",
    "\n",
    "import os\n",
    "from selenium.webdriver.support.select import Select"
   ]
  },
  {
   "cell_type": "code",
   "execution_count": 2,
   "metadata": {},
   "outputs": [],
   "source": [
    "BBR_URL=\"https://www.spotrac.com/nba/free-agents/\""
   ]
  },
  {
   "cell_type": "code",
   "execution_count": 3,
   "metadata": {},
   "outputs": [],
   "source": [
    "\n",
    "chromedriver = \"/Applications/chromedriver\" # path to the chromedriver executable\n",
    "os.environ[\"webdriver.chrome.driver\"] = chromedriver\n",
    "\n",
    "\n",
    "driver = webdriver.Chrome(chromedriver)\n",
    "driver.get(BBR_URL)"
   ]
  },
  {
   "cell_type": "code",
   "execution_count": 4,
   "metadata": {},
   "outputs": [
    {
     "name": "stdout",
     "output_type": "stream",
     "text": [
      "loading 2018 Free Agents...\n",
      "Chris Paul\n",
      "Off to next...\n",
      "loading 2017 Free Agents...\n",
      "Stephen Curry\n",
      "Off to next...\n",
      "loading 2016 Free Agents...\n",
      "Mike Conley\n",
      "Off to next...\n",
      "loading 2015 Free Agents...\n",
      "Marc Gasol\n",
      "Off to next...\n",
      "loading 2014 Free Agents...\n",
      "Gordon Hayward\n",
      "Off to next...\n",
      "loading 2013 Free Agents...\n",
      "Dwight Howard\n",
      "Off to next...\n",
      "loading 2012 Free Agents...\n",
      "Deron Williams\n",
      "Off to next...\n",
      "loading 2011 Free Agents...\n",
      "Marc Gasol\n",
      "Off to next...\n"
     ]
    }
   ],
   "source": [
    "dfs = {}\n",
    "\n",
    "for i in range(2018,2010,-1):\n",
    "    years = Select(driver.find_element_by_name('year'))\n",
    "    years.select_by_visible_text(str(i))\n",
    "    submit = driver.find_element_by_class_name('go')\n",
    "    submit.click()\n",
    "    time.sleep(10)\n",
    "    print(\"loading \"+str(i)+\" Free Agents...\")\n",
    "    df = pd.read_html(driver.current_url)[0]\n",
    "    print(df.iloc[0,0])\n",
    "    print(\"Off to next...\")\n",
    "    \n",
    "    dfs[i]=df\n",
    "    "
   ]
  },
  {
   "cell_type": "code",
   "execution_count": 13,
   "metadata": {},
   "outputs": [
    {
     "data": {
      "text/plain": [
       "[2019, 2018, 2017, 2016, 2015, 2014, 2013, 2012, 2011]"
      ]
     },
     "execution_count": 13,
     "metadata": {},
     "output_type": "execute_result"
    }
   ],
   "source": [
    "list(range(2019,2010,-1))"
   ]
  },
  {
   "cell_type": "code",
   "execution_count": 5,
   "metadata": {},
   "outputs": [],
   "source": [
    "driver.quit()"
   ]
  },
  {
   "cell_type": "code",
   "execution_count": null,
   "metadata": {},
   "outputs": [],
   "source": []
  }
 ],
 "metadata": {
  "kernelspec": {
   "display_name": "metis",
   "language": "python",
   "name": "metis"
  },
  "language_info": {
   "codemirror_mode": {
    "name": "ipython",
    "version": 3
   },
   "file_extension": ".py",
   "mimetype": "text/x-python",
   "name": "python",
   "nbconvert_exporter": "python",
   "pygments_lexer": "ipython3",
   "version": "3.7.3"
  },
  "toc": {
   "base_numbering": 1,
   "nav_menu": {},
   "number_sections": true,
   "sideBar": true,
   "skip_h1_title": false,
   "title_cell": "Table of Contents",
   "title_sidebar": "Contents",
   "toc_cell": false,
   "toc_position": {},
   "toc_section_display": true,
   "toc_window_display": false
  }
 },
 "nbformat": 4,
 "nbformat_minor": 2
}
