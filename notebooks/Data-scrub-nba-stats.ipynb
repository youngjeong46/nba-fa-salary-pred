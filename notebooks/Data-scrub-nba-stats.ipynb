{
 "cells": [
  {
   "cell_type": "code",
   "execution_count": 2,
   "metadata": {},
   "outputs": [],
   "source": [
    "import os\n",
    "import pickle\n",
    "import pandas as pd"
   ]
  },
  {
   "cell_type": "markdown",
   "metadata": {},
   "source": [
    "Load the stats and advanced stats data:"
   ]
  },
  {
   "cell_type": "code",
   "execution_count": 3,
   "metadata": {},
   "outputs": [],
   "source": [
    "advs=pickle.load(open(\"../data/raw/advstats.pickle\", \"rb\"))\n",
    "stats=pickle.load(open(\"../data/raw/regstats.pickle\", \"rb\"))"
   ]
  },
  {
   "cell_type": "code",
   "execution_count": 4,
   "metadata": {},
   "outputs": [
    {
     "name": "stdout",
     "output_type": "stream",
     "text": [
      "For Year 2019: 530 rows\n",
      "For Year 2018: 540 rows\n",
      "For Year 2017: 486 rows\n",
      "For Year 2016: 476 rows\n",
      "For Year 2015: 492 rows\n",
      "For Year 2014: 482 rows\n",
      "For Year 2013: 469 rows\n",
      "For Year 2012: 478 rows\n",
      "For Year 2011: 452 rows\n",
      "For Year 2010: 442 rows\n",
      "For Year 2009: 445 rows\n",
      "For Year 2008: 451 rows\n"
     ]
    }
   ],
   "source": [
    "for i,j in stats.items():\n",
    "    temp = j \n",
    "    temp['total'] = (temp['Tm'] == 'TOT')\n",
    "    temp = temp.sort_values('total', ascending=False).drop_duplicates(['Player','Age']).drop('total', 1)\n",
    "    print(\"For Year \"+str(i)+\": \"+str(temp.shape[0])+\" rows\")\n",
    "    stats[i]=temp"
   ]
  },
  {
   "cell_type": "code",
   "execution_count": 5,
   "metadata": {
    "scrolled": true
   },
   "outputs": [
    {
     "name": "stdout",
     "output_type": "stream",
     "text": [
      "For Year 2019: 530 rows\n",
      "For Year 2018: 540 rows\n",
      "For Year 2017: 486 rows\n",
      "For Year 2016: 476 rows\n",
      "For Year 2015: 492 rows\n",
      "For Year 2014: 482 rows\n",
      "For Year 2013: 469 rows\n",
      "For Year 2012: 478 rows\n",
      "For Year 2011: 452 rows\n",
      "For Year 2010: 442 rows\n",
      "For Year 2009: 445 rows\n",
      "For Year 2008: 451 rows\n"
     ]
    }
   ],
   "source": [
    "for i,j in advs.items():\n",
    "    temp = j \n",
    "    temp['total'] = (temp['Tm'] == 'TOT')\n",
    "    temp = temp.sort_values('total', ascending=False).drop_duplicates(['Player','Age']).drop('total', 1)\n",
    "    print(\"For Year \"+str(i)+\": \"+str(temp.shape[0])+\" rows\")\n",
    "    advs[i]=temp"
   ]
  },
  {
   "cell_type": "code",
   "execution_count": 6,
   "metadata": {},
   "outputs": [
    {
     "name": "stdout",
     "output_type": "stream",
     "text": [
      "Stats Row for 2019: 530, Adv Row for 2019: 530, After combined: 530\n",
      "Stats Row for 2018: 540, Adv Row for 2018: 540, After combined: 540\n",
      "Stats Row for 2017: 486, Adv Row for 2017: 486, After combined: 486\n",
      "Stats Row for 2016: 476, Adv Row for 2016: 476, After combined: 476\n",
      "Stats Row for 2015: 492, Adv Row for 2015: 492, After combined: 492\n",
      "Stats Row for 2014: 482, Adv Row for 2014: 482, After combined: 482\n",
      "Stats Row for 2013: 469, Adv Row for 2013: 469, After combined: 469\n",
      "Stats Row for 2012: 478, Adv Row for 2012: 478, After combined: 478\n",
      "Stats Row for 2011: 452, Adv Row for 2011: 452, After combined: 452\n",
      "Stats Row for 2010: 442, Adv Row for 2010: 442, After combined: 442\n",
      "Stats Row for 2009: 445, Adv Row for 2009: 445, After combined: 445\n",
      "Stats Row for 2008: 451, Adv Row for 2008: 451, After combined: 451\n"
     ]
    }
   ],
   "source": [
    "combined={}\n",
    "for (a1,b1),(a2,b2) in zip(stats.items(),advs.items()):\n",
    "    df = b1.merge(b2, how=\"inner\",on=[\"Player\",\"Age\",\"Pos\",\"Tm\",\"G\"])#,\"MP\"])\n",
    "#     pd.DataFrame(sorted(df.values, key=lambda x: x[1].split(' ')[::-1]),columns=df.columns)\n",
    "    combined[a1]=df.sort_values(\"Player\")\n",
    "    print(\"Stats Row for \"+str(a1)+\": \"+str(b1.shape[0])\n",
    "          +\", Adv Row for \"+str(a2)+\": \"+str(b2.shape[0])+\", After combined: \"+str(df.shape[0]))\n",
    "    "
   ]
  },
  {
   "cell_type": "code",
   "execution_count": 7,
   "metadata": {},
   "outputs": [],
   "source": [
    "for k,v in combined.items():\n",
    "    v=v.drop(['Rk_x','Unnamed: 19','Unnamed: 24'], axis=1)\n",
    "    v['Year'] = k\n",
    "    combined[k]=v"
   ]
  },
  {
   "cell_type": "code",
   "execution_count": 8,
   "metadata": {},
   "outputs": [],
   "source": [
    "from functools import reduce\n",
    "combined_stats = reduce(lambda x,y:pd.concat([x,y]),[k for k in combined.values()])"
   ]
  },
  {
   "cell_type": "code",
   "execution_count": 9,
   "metadata": {},
   "outputs": [
    {
     "name": "stdout",
     "output_type": "stream",
     "text": [
      "<class 'pandas.core.frame.DataFrame'>\n",
      "Int64Index: 5743 entries, 521 to 359\n",
      "Data columns (total 52 columns):\n",
      "Player    5743 non-null object\n",
      "Pos       5743 non-null object\n",
      "Age       5743 non-null object\n",
      "Tm        5743 non-null object\n",
      "G         5743 non-null object\n",
      "GS        5743 non-null object\n",
      "MP_x      5743 non-null object\n",
      "FG        5743 non-null object\n",
      "FGA       5743 non-null object\n",
      "FG%       5723 non-null object\n",
      "3P        5743 non-null object\n",
      "3PA       5743 non-null object\n",
      "3P%       5019 non-null object\n",
      "2P        5743 non-null object\n",
      "2PA       5743 non-null object\n",
      "2P%       5699 non-null object\n",
      "eFG%      5723 non-null object\n",
      "FT        5743 non-null object\n",
      "FTA       5743 non-null object\n",
      "FT%       5532 non-null object\n",
      "ORB       5743 non-null object\n",
      "DRB       5743 non-null object\n",
      "TRB       5743 non-null object\n",
      "AST       5743 non-null object\n",
      "STL       5743 non-null object\n",
      "BLK       5743 non-null object\n",
      "TOV       5743 non-null object\n",
      "PF        5743 non-null object\n",
      "PTS       5743 non-null object\n",
      "Rk_y      5743 non-null object\n",
      "MP_y      5743 non-null object\n",
      "PER       5741 non-null object\n",
      "TS%       5723 non-null object\n",
      "3PAr      5723 non-null object\n",
      "FTr       5723 non-null object\n",
      "ORB%      5741 non-null object\n",
      "DRB%      5741 non-null object\n",
      "TRB%      5741 non-null object\n",
      "AST%      5741 non-null object\n",
      "STL%      5741 non-null object\n",
      "BLK%      5741 non-null object\n",
      "TOV%      5725 non-null object\n",
      "USG%      5741 non-null object\n",
      "OWS       5743 non-null object\n",
      "DWS       5743 non-null object\n",
      "WS        5743 non-null object\n",
      "WS/48     5741 non-null object\n",
      "OBPM      5743 non-null object\n",
      "DBPM      5743 non-null object\n",
      "BPM       5743 non-null object\n",
      "VORP      5743 non-null object\n",
      "Year      5743 non-null int64\n",
      "dtypes: int64(1), object(51)\n",
      "memory usage: 2.3+ MB\n"
     ]
    }
   ],
   "source": [
    "combined_stats.info()"
   ]
  },
  {
   "cell_type": "code",
   "execution_count": null,
   "metadata": {},
   "outputs": [],
   "source": []
  }
 ],
 "metadata": {
  "kernelspec": {
   "display_name": "metis",
   "language": "python",
   "name": "metis"
  },
  "language_info": {
   "codemirror_mode": {
    "name": "ipython",
    "version": 3
   },
   "file_extension": ".py",
   "mimetype": "text/x-python",
   "name": "python",
   "nbconvert_exporter": "python",
   "pygments_lexer": "ipython3",
   "version": "3.7.3"
  },
  "toc": {
   "base_numbering": 1,
   "nav_menu": {},
   "number_sections": true,
   "sideBar": true,
   "skip_h1_title": false,
   "title_cell": "Table of Contents",
   "title_sidebar": "Contents",
   "toc_cell": false,
   "toc_position": {},
   "toc_section_display": true,
   "toc_window_display": false
  }
 },
 "nbformat": 4,
 "nbformat_minor": 2
}
