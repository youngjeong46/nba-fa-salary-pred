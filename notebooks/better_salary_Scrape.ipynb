{
 "cells": [
  {
   "cell_type": "code",
   "execution_count": 84,
   "metadata": {},
   "outputs": [],
   "source": [
    "import pandas as pd\n",
    "import numpy as np\n",
    "from datetime import datetime\n",
    "import os\n",
    "import time\n",
    "\n",
    "from functools import reduce\n",
    "from selenium import webdriver\n",
    "from selenium.webdriver.common.keys import Keys\n",
    "from selenium.webdriver.common.action_chains import ActionChains\n",
    "from selenium.webdriver.common.by import By\n",
    "from selenium.common.exceptions import NoSuchElementException       \n",
    "from selenium.webdriver.support.ui import WebDriverWait\n",
    "from selenium.webdriver.support import expected_conditions as EC\n",
    "from selenium.webdriver.support.select import Select"
   ]
  },
  {
   "cell_type": "code",
   "execution_count": 85,
   "metadata": {},
   "outputs": [],
   "source": [
    "def initialize_selenium(URL):\n",
    "    # initialize selenium\n",
    "    chromedriver = \"/Applications/chromedriver\" \n",
    "    os.environ[\"webdriver.chrome.driver\"] = chromedriver\n",
    "    driver = webdriver.Chrome(chromedriver)\n",
    "    driver.get(URL)\n",
    "    \n",
    "    return driver  \n",
    "\n",
    "# Generate dictionary to store our data per year\n",
    "def data_to_dict(years):\n",
    "    \"\"\"\n",
    "    Generate Dictionary that will store our data per year in this format:\n",
    "    \n",
    "    Key (Year): Value (Data)\n",
    "    \n",
    "    years: int indicating how many years of data will be stored\n",
    "    \"\"\"\n",
    "    data = {}\n",
    "    CURRENT_YEAR = int(datetime.now().year)\n",
    "    years_label = range(CURRENT_YEAR-1,CURRENT_YEAR-years,-1)\n",
    "    \n",
    "    return years_label, data\n",
    "    \n",
    "def download_salary_data(URL,years):\n",
    "    \n",
    "    years_label, data = data_to_dict(years)\n",
    "    driver = initialize_selenium(URL)\n",
    "    print(list(years_label))\n",
    "\n",
    "    for i in years_label:\n",
    "        time.sleep(2)\n",
    "        df = pd.read_html(driver.current_url)[0] \n",
    "        data[i]=df\n",
    "        years = driver.find_element_by_class_name(\"salaries-team-selector-top\")\n",
    "        years.click()\n",
    "        year = driver.find_element_by_link_text(str(i-1)+\"/\"+str(i-2000).zfill(2))\n",
    "        year.click()\n",
    "        \n",
    "    driver.quit()\n",
    "    \n",
    "    return data"
   ]
  },
  {
   "cell_type": "code",
   "execution_count": 73,
   "metadata": {},
   "outputs": [
    {
     "name": "stdout",
     "output_type": "stream",
     "text": [
      "[2018, 2017, 2016, 2015, 2014, 2013, 2012, 2011, 2010, 2009, 2008]\n"
     ]
    }
   ],
   "source": [
    "data_salary = download_salary_data(\"https://hoopshype.com/salaries/players/\", 12)"
   ]
  },
  {
   "cell_type": "code",
   "execution_count": 74,
   "metadata": {},
   "outputs": [
    {
     "data": {
      "text/plain": [
       "dict_keys([2018, 2017, 2016, 2015, 2014, 2013, 2012, 2011, 2010, 2009, 2008])"
      ]
     },
     "execution_count": 74,
     "metadata": {},
     "output_type": "execute_result"
    }
   ],
   "source": [
    "data_salary.keys()"
   ]
  },
  {
   "cell_type": "code",
   "execution_count": 79,
   "metadata": {},
   "outputs": [
    {
     "name": "stdout",
     "output_type": "stream",
     "text": [
      "2018/19\n",
      "2017/18\n",
      "2016/17\n",
      "2015/16\n",
      "2014/15\n",
      "2013/14\n",
      "2012/13\n",
      "2011/12\n"
     ]
    },
    {
     "name": "stderr",
     "output_type": "stream",
     "text": [
      "/Users/youngjeong/anaconda3/envs/metis/lib/python3.7/site-packages/ipykernel_launcher.py:6: SettingWithCopyWarning: \n",
      "A value is trying to be set on a copy of a slice from a DataFrame.\n",
      "Try using .loc[row_indexer,col_indexer] = value instead\n",
      "\n",
      "See the caveats in the documentation: http://pandas.pydata.org/pandas-docs/stable/indexing.html#indexing-view-versus-copy\n",
      "  \n"
     ]
    },
    {
     "name": "stdout",
     "output_type": "stream",
     "text": [
      "2010/11\n",
      "2009/10\n",
      "2008/09\n"
     ]
    }
   ],
   "source": [
    "combined={}\n",
    "for k,v in data_salary.items():\n",
    "    calendar = str(k)+\"/\"+str(k-1999).zfill(2)\n",
    "    print(calendar)\n",
    "    temp = v[['Player',calendar]]\n",
    "    temp[\"Year\"] = k\n",
    "    temp = temp.rename(columns={calendar:\"Salary\"})\n",
    "    combined[k]=temp\n"
   ]
  },
  {
   "cell_type": "code",
   "execution_count": 86,
   "metadata": {},
   "outputs": [],
   "source": [
    "salaries = reduce(lambda x,y:pd.concat([x,y]),[v for k,v in combined.items()])\n",
    "salaries[\"Salary\"] = salaries[\"Salary\"].str.replace('$','').str.replace(',','')\n",
    "salaries.Salary = salaries.Salary.astype(int)"
   ]
  },
  {
   "cell_type": "code",
   "execution_count": 88,
   "metadata": {},
   "outputs": [
    {
     "data": {
      "text/plain": [
       "Index(['Player', 'Salary', 'Year'], dtype='object')"
      ]
     },
     "execution_count": 88,
     "metadata": {},
     "output_type": "execute_result"
    }
   ],
   "source": [
    "salaries.columns"
   ]
  },
  {
   "cell_type": "code",
   "execution_count": null,
   "metadata": {},
   "outputs": [],
   "source": []
  }
 ],
 "metadata": {
  "kernelspec": {
   "display_name": "metis",
   "language": "python",
   "name": "metis"
  },
  "language_info": {
   "codemirror_mode": {
    "name": "ipython",
    "version": 3
   },
   "file_extension": ".py",
   "mimetype": "text/x-python",
   "name": "python",
   "nbconvert_exporter": "python",
   "pygments_lexer": "ipython3",
   "version": "3.7.3"
  },
  "toc": {
   "base_numbering": 1,
   "nav_menu": {},
   "number_sections": true,
   "sideBar": true,
   "skip_h1_title": false,
   "title_cell": "Table of Contents",
   "title_sidebar": "Contents",
   "toc_cell": false,
   "toc_position": {},
   "toc_section_display": true,
   "toc_window_display": false
  }
 },
 "nbformat": 4,
 "nbformat_minor": 2
}
