{
 "cells": [
  {
   "cell_type": "code",
   "execution_count": 67,
   "metadata": {},
   "outputs": [],
   "source": [
    "import pandas as pd\n",
    "import html5lib\n",
    "from selenium import webdriver\n",
    "import time\n",
    "from selenium.webdriver.common.action_chains import ActionChains\n",
    "from selenium.common.exceptions import NoSuchElementException        \n",
    "from selenium.webdriver.support.select import Select\n",
    "\n",
    "import os\n"
   ]
  },
  {
   "cell_type": "code",
   "execution_count": 51,
   "metadata": {},
   "outputs": [],
   "source": [
    "def check_exists(driver,classname):\n",
    "    try:\n",
    "        driver.find_element_by_class_name(classname)\n",
    "    except NoSuchElementException:\n",
    "        return False\n",
    "    return True"
   ]
  },
  {
   "cell_type": "code",
   "execution_count": 52,
   "metadata": {},
   "outputs": [],
   "source": [
    "BBR_URL=\"http://www.espn.com/nba/salaries/_/year/2019\""
   ]
  },
  {
   "cell_type": "code",
   "execution_count": 77,
   "metadata": {},
   "outputs": [],
   "source": [
    "\n",
    "chromedriver = \"/Applications/chromedriver\" # path to the chromedriver executable\n",
    "os.environ[\"webdriver.chrome.driver\"] = chromedriver\n",
    "\n",
    "\n",
    "driver = webdriver.Chrome(chromedriver)\n",
    "driver.get(BBR_URL)"
   ]
  },
  {
   "cell_type": "code",
   "execution_count": 78,
   "metadata": {
    "scrolled": false
   },
   "outputs": [],
   "source": [
    "dfs = {}\n",
    "\n",
    "for i in list(range(2018,2009,-1)):\n",
    "    time.sleep(2)\n",
    "#     print(\"loading \"+str(i)+\" Free Agents...\")\n",
    "    df = pd.read_html(driver.current_url)[0] #first page\n",
    "#     print(df.iloc[0,0])\n",
    "    while check_exists(driver,'jcarousel-next-disabled') == False:\n",
    "        next = driver.find_element_by_class_name('jcarousel-next')\n",
    "        next.click()\n",
    "        time.sleep(5)\n",
    "        temp = pd.read_html(driver.current_url)[0]\n",
    "        df = df.append(temp,ignore_index=True)\n",
    "    years = Select(driver.find_element_by_class_name('tablesm'))\n",
    "    years.select_by_visible_text(str(i-1)+\"-\"+str(i))\n",
    "    dfs[i]=df"
   ]
  },
  {
   "cell_type": "code",
   "execution_count": 91,
   "metadata": {},
   "outputs": [
    {
     "data": {
      "text/html": [
       "<div>\n",
       "<style scoped>\n",
       "    .dataframe tbody tr th:only-of-type {\n",
       "        vertical-align: middle;\n",
       "    }\n",
       "\n",
       "    .dataframe tbody tr th {\n",
       "        vertical-align: top;\n",
       "    }\n",
       "\n",
       "    .dataframe thead th {\n",
       "        text-align: right;\n",
       "    }\n",
       "</style>\n",
       "<table border=\"1\" class=\"dataframe\">\n",
       "  <thead>\n",
       "    <tr style=\"text-align: right;\">\n",
       "      <th></th>\n",
       "      <th>0</th>\n",
       "      <th>1</th>\n",
       "      <th>2</th>\n",
       "      <th>3</th>\n",
       "    </tr>\n",
       "  </thead>\n",
       "  <tbody>\n",
       "    <tr>\n",
       "      <th>477</th>\n",
       "      <td>434</td>\n",
       "      <td>Jonathan Gibson, PG</td>\n",
       "      <td>Boston Celtics</td>\n",
       "      <td>$17,092</td>\n",
       "    </tr>\n",
       "    <tr>\n",
       "      <th>478</th>\n",
       "      <td>435</td>\n",
       "      <td>Tarik Phillip, G</td>\n",
       "      <td>Washington Wizards</td>\n",
       "      <td>$9,474</td>\n",
       "    </tr>\n",
       "    <tr>\n",
       "      <th>479</th>\n",
       "      <td>436</td>\n",
       "      <td>Duncan Robinson, SF</td>\n",
       "      <td>Miami Heat</td>\n",
       "      <td>$9,474</td>\n",
       "    </tr>\n",
       "    <tr>\n",
       "      <th>480</th>\n",
       "      <td>437</td>\n",
       "      <td>Theo Pinson, SG</td>\n",
       "      <td>Brooklyn Nets</td>\n",
       "      <td>$4,737</td>\n",
       "    </tr>\n",
       "    <tr>\n",
       "      <th>481</th>\n",
       "      <td>438</td>\n",
       "      <td>Kendrick Nunn, SG</td>\n",
       "      <td>Miami Heat</td>\n",
       "      <td>$4,737</td>\n",
       "    </tr>\n",
       "  </tbody>\n",
       "</table>\n",
       "</div>"
      ],
      "text/plain": [
       "       0                    1                   2        3\n",
       "477  434  Jonathan Gibson, PG      Boston Celtics  $17,092\n",
       "478  435     Tarik Phillip, G  Washington Wizards   $9,474\n",
       "479  436  Duncan Robinson, SF          Miami Heat   $9,474\n",
       "480  437      Theo Pinson, SG       Brooklyn Nets   $4,737\n",
       "481  438    Kendrick Nunn, SG          Miami Heat   $4,737"
      ]
     },
     "execution_count": 91,
     "metadata": {},
     "output_type": "execute_result"
    }
   ],
   "source": [
    "dfs[2018].tail(5)"
   ]
  },
  {
   "cell_type": "code",
   "execution_count": 82,
   "metadata": {},
   "outputs": [],
   "source": [
    "import pickle\n",
    "with open(\"../data/raw/salaries.pickle\",'wb') as writer:\n",
    "    pickle.dump(dfs,writer)"
   ]
  },
  {
   "cell_type": "code",
   "execution_count": null,
   "metadata": {},
   "outputs": [],
   "source": []
  }
 ],
 "metadata": {
  "kernelspec": {
   "display_name": "metis",
   "language": "python",
   "name": "metis"
  },
  "language_info": {
   "codemirror_mode": {
    "name": "ipython",
    "version": 3
   },
   "file_extension": ".py",
   "mimetype": "text/x-python",
   "name": "python",
   "nbconvert_exporter": "python",
   "pygments_lexer": "ipython3",
   "version": "3.7.3"
  },
  "toc": {
   "base_numbering": 1,
   "nav_menu": {},
   "number_sections": true,
   "sideBar": true,
   "skip_h1_title": false,
   "title_cell": "Table of Contents",
   "title_sidebar": "Contents",
   "toc_cell": false,
   "toc_position": {},
   "toc_section_display": true,
   "toc_window_display": false
  }
 },
 "nbformat": 4,
 "nbformat_minor": 2
}
